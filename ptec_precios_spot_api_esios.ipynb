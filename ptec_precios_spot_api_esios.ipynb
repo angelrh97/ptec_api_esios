{
 "cells": [
  {
   "cell_type": "markdown",
   "metadata": {},
   "source": [
    "### ***Descarga de información de la API de ESIOS***\n",
    "----\n",
    "Resumen:\n",
    "1) Conexion a API de ESIOS\n"
   ]
  },
  {
   "cell_type": "markdown",
   "metadata": {},
   "source": [
    "***0) Imports, funciones y variables genericas***"
   ]
  },
  {
   "cell_type": "code",
   "execution_count": null,
   "metadata": {},
   "outputs": [],
   "source": [
    "import requests\n",
    "import pandas as pd\n",
    "import warnings\n",
    "from datetime import datetime, timedelta, date\n",
    "from dateutil.relativedelta import relativedelta"
   ]
  },
  {
   "cell_type": "code",
   "execution_count": null,
   "metadata": {},
   "outputs": [],
   "source": [
    "def data_indicator_prices(url:str, id_esios:int, mkt:str, ses:int, headers:dict, date_start:date, date_end:date):\n",
    "\n",
    "    \"\"\"\n",
    "    Funcion para obtener en formato DataFrame los precios de las sesiones spot e intradiarias de España de la API de ESIOS\n",
    "\n",
    "    Args:\n",
    "    -   url (str): Cadena de texto de la URL donde realizaremos el REQUEST\n",
    "    -   id_esios (int): Numero del indicador de la info necesaria de analisis\n",
    "    -   mkt (str): Señal de mercado\n",
    "    -   ses (int): Señal de sesion\n",
    "    -   headers (dict): Diccionario con la info y token necesarios para poder realizar el REQUEST\n",
    "    -   date_start (datetime.date): Fecha de inicio del intervalo para recopilar informacion\n",
    "    -   date_end (datetime.date): Fecha de fin del intervalo para recopilar informacion\n",
    "\n",
    "    Returns:\n",
    "    -    df_data (pd.dataframe): Dataframe con la informacion de fecha-hora, mercado, sesion y precios\n",
    "    \"\"\"\n",
    "\n",
    "    # Check de las sesiones superiores a la 4 para no cargar informacion debido a la reduccion de sesiones desde el 14/06/2024 con los IDAs\n",
    "    if ses > 3:\n",
    "        if date_start > date(2024, 6, 13):\n",
    "            return pd.DataFrame(columns=['DATETIME', 'MERCADO', 'SESION', 'VALUE'])\n",
    "\n",
    "    url_id = url + str(id_esios)\n",
    "    params = {\n",
    "        'start_date': date_start.strftime('%Y-%m-%dT%H'),\n",
    "        'end_date': date_end.strftime('%Y-%m-%dT%H')\n",
    "    }\n",
    "\n",
    "    data = requests.get(url_id, headers=headers, params=params, verify=False).json()\n",
    "\n",
    "    df_data = pd.DataFrame(data['indicator']['values'])\n",
    "\n",
    "    # Mascara de region\n",
    "    mask_geoname = df_data['geo_name']=='España'\n",
    "    mask_geoid = df_data['geo_id']==3\n",
    "\n",
    "    # Filtrado y limpieza\n",
    "    df_data = df_data[mask_geoname & mask_geoid]\n",
    "    df_data['MERCADO'] = mkt\n",
    "    df_data['SESION'] = ses\n",
    "    df_data = df_data[['datetime', 'MERCADO', 'SESION', 'value']]\n",
    "    df_data.columns = df_data.columns.str.upper()\n",
    "\n",
    "    return df_data"
   ]
  },
  {
   "cell_type": "markdown",
   "metadata": {},
   "source": [
    "***1) Conexion API esios***"
   ]
  },
  {
   "cell_type": "code",
   "execution_count": null,
   "metadata": {},
   "outputs": [],
   "source": [
    "# Token personal, necesrio solicitarlo a REE (yo ya lo tenia)\n",
    "API_TOKEN = 'a90357a0b0e0f23074624d312cf3a92c3d53afc80fb2ee03bcdb4776216c38ae'\n",
    "\n",
    "headers = {\n",
    "    'Host': 'api.esios.ree.es',\n",
    "    'Accept': 'application/json; application/vnd.esios-api-v1+json',\n",
    "    'Content-Type': 'application/json',\n",
    "    'x-api-key': API_TOKEN\n",
    "}\n",
    "\n",
    "URL_BASE = 'https://api.esios.ree.es/'\n",
    "ENDPOINT = 'indicators/'\n",
    "\n",
    "url = URL_BASE + ENDPOINT\n",
    "\n",
    "# IDs de los datos requeridos, los podemos obtener directamente del portal de \"https://www.esios.ree.es/es/analisis/\" y ahorrarnos mas peticiones a la web via API\n",
    "id_spot = 600\n",
    "id_idas = [612, 613, 614, 615, 616, 617, 618]\n",
    "ids_prices = [id_spot] + id_idas"
   ]
  },
  {
   "cell_type": "markdown",
   "metadata": {},
   "source": [
    "***2) Descarga de los precios***"
   ]
  },
  {
   "cell_type": "code",
   "execution_count": null,
   "metadata": {},
   "outputs": [],
   "source": [
    "# Lista vacia para compilar todos los dataframes y posteriormente concatenar en un solo dataframe\n",
    "list_dfs_prices = []\n",
    "\n",
    "# Definir las fechas de inicio y fin\n",
    "start_date = datetime.strptime(input(\"Fecha de INICIO (AAAA-MM-DD):\"), '%Y-%m-%d').date()\n",
    "end_date = datetime.strptime(input(\"Fecha de FIN (AAAA-MM-DD):\"), '%Y-%m-%d').date()"
   ]
  },
  {
   "cell_type": "code",
   "execution_count": null,
   "metadata": {},
   "outputs": [],
   "source": [
    "current_date = start_date\n",
    "\n",
    "while current_date <= end_date: # Bucle para ir haciendo las peticiones de mes en mes y no sobresaturar la demanda de informacion\n",
    "\n",
    "    next_date = current_date + relativedelta(months=1) - timedelta(seconds=1)\n",
    "\n",
    "    list_dfs_sesiones = []\n",
    "\n",
    "    for i in range(len(ids_prices)):\n",
    "\n",
    "        with warnings.catch_warnings(): # Nos quitamos los 'warnings' para que no aparezcan por pantallas\n",
    "            warnings.simplefilter(\"ignore\")\n",
    "\n",
    "            # Condicional para identificar que la sesion \"0\" es SPOT y las demas son IDAs\n",
    "\n",
    "            if i==0:\n",
    "                mkt = 'SPOT'\n",
    "            else:\n",
    "                mkt = 'IDA'\n",
    "\n",
    "            try:\n",
    "                df_prc_ses = data_indicator_prices(url=url, id_esios=ids_prices[i], mkt= mkt, ses= i, headers= headers, date_start= current_date, date_end= next_date)\n",
    "                list_dfs_sesiones.append(df_prc_ses.copy(deep=True))\n",
    "            except Exception as error_prc_ses:\n",
    "                print(f\"Error obteniendo precios para {mkt}_{i} entre {current_date.strftime('%Y-%m-%d')} y {next_date.strftime('%Y-%m-%d')}: \", error_prc_ses)\n",
    "\n",
    "    # Tras finalziar el bucle de sesiones concateno y agrego a la lista inicial de dataframes\n",
    "    df_prcs = pd.concat(list_dfs_sesiones, axis=0).reset_index(drop=True)\n",
    "    list_dfs_prices.append(df_prcs.copy(deep=True))\n",
    "\n",
    "    # Actualizo la fecha realtiva para obtener el mes siguiente\n",
    "    current_date += relativedelta(months=1)\n",
    "\n",
    "df_prcs_final = pd.concat(list_dfs_prices, axis=0).reset_index(drop=True)\n"
   ]
  },
  {
   "cell_type": "markdown",
   "metadata": {},
   "source": [
    "***2) Limpieza del dataframe***"
   ]
  },
  {
   "cell_type": "code",
   "execution_count": null,
   "metadata": {},
   "outputs": [],
   "source": [
    "df_prcs_final['DATETIME'] = pd.to_datetime(df_prcs_final['DATETIME'].str.split('+').str[0])\n",
    "df_prcs_final['FECHA'] = df_prcs_final['DATETIME'].dt.strftime('%Y-%m-%d')\n",
    "df_prcs_final['PERIODO'] = df_prcs_final['DATETIME'].dt.hour + 1\n",
    "\n",
    "df_prcs_final.rename(columns={'VALUE': 'PRECIO_EUR'}, inplace=True)\n",
    "df_prcs_final['PRECIO_EUR'] = df_prcs_final['PRECIO_EUR'].astype(float)\n",
    "\n",
    "df_prcs_final.set_index('DATETIME', inplace=True)\n",
    "df_prcs_final = df_prcs_final[['FECHA', 'PERIODO', 'MERCADO', 'SESION', 'PRECIO_EUR']]\n",
    "\n",
    "df_prcs_final.head()"
   ]
  },
  {
   "cell_type": "markdown",
   "metadata": {},
   "source": [
    "***3) Almacenamiento de la info en fichero auxiliar***"
   ]
  },
  {
   "cell_type": "code",
   "execution_count": null,
   "metadata": {},
   "outputs": [],
   "source": [
    "df_prcs_final.to_parquet('prcs_spot_ida_spain.parquet', engine='pyarrow')   # Para almacenamiento mas comprimido de grandes cantidades de datos\n",
    "df_prcs_final.to_csv('prcs_spot_ida_spain.csv', sep=';')"
   ]
  }
 ],
 "metadata": {
  "kernelspec": {
   "display_name": ".venv",
   "language": "python",
   "name": "python3"
  },
  "language_info": {
   "codemirror_mode": {
    "name": "ipython",
    "version": 3
   },
   "file_extension": ".py",
   "mimetype": "text/x-python",
   "name": "python",
   "nbconvert_exporter": "python",
   "pygments_lexer": "ipython3",
   "version": "3.11.6"
  }
 },
 "nbformat": 4,
 "nbformat_minor": 2
}
